{
 "cells": [
  {
   "cell_type": "code",
   "execution_count": 2,
   "metadata": {},
   "outputs": [],
   "source": [
    "import os\n",
    "import numpy as np\n",
    "import pandas as pd\n",
    "from scipy.spatial.distance import pdist, squareform\n",
    "from collections import Counter\n",
    "from sklearn.preprocessing import StandardScaler\n",
    "from sklearn.model_selection import train_test_split\n",
    "from sklearn.metrics import mean_squared_error, r2_score\n",
    "import pennylane as qml\n",
    "import matplotlib.pyplot as plt\n"
   ]
  },
  {
   "cell_type": "code",
   "execution_count": 3,
   "metadata": {},
   "outputs": [],
   "source": [
    "def extract_target_property(metadata):\n",
    "    \"\"\"\n",
    "    Tries to extract a numerical target property from the last few lines of metadata.\n",
    "    Assumes the target is the last valid float number.\n",
    "    \"\"\"\n",
    "    target_property = np.nan  # Default to NaN in case no value is found\n",
    "    \n",
    "    # Traverse the metadata to find the last valid numerical value\n",
    "    for line in reversed(metadata):\n",
    "        for value in reversed(line.strip().split()):\n",
    "            try:\n",
    "                target_property = float(value)\n",
    "                return target_property  # Return the first valid float found\n",
    "            except ValueError:\n",
    "                continue  # Skip non-numeric values\n",
    "                \n",
    "    return target_property  # Return NaN if no numeric value is found"
   ]
  },
  {
   "cell_type": "code",
   "execution_count": 27,
   "metadata": {},
   "outputs": [],
   "source": [
    "# Directory containing the XYZ files\n",
    "xyz_dir = \"QM9/dsgdb9nsd.xyz\"\n",
    "\n",
    "def parse_xyz(file_path):\n",
    "    with open(file_path, 'r') as f:\n",
    "        lines = f.readlines()\n",
    "        \n",
    "        # Step 1: Get the number of atoms\n",
    "        num_atoms = int(lines[0].strip())\n",
    "        \n",
    "        # Step 2: Extract atomic types and coordinates\n",
    "        atom_types = []\n",
    "        coordinates = []\n",
    "        \n",
    "        for i in range(2, 2 + num_atoms):\n",
    "            parts = lines[i].strip().split()\n",
    "            atom_types.append(parts[0])  # Atom symbol (C, H, O, etc.)\n",
    "            coords = [float(part.replace('*^', 'e')) for part in parts[1:4]]\n",
    "            coordinates.append(coords)\n",
    "        \n",
    "        # Step 3: Extract the metadata and target property\n",
    "        metadata_start = 2 + num_atoms\n",
    "        metadata = lines[metadata_start:]\n",
    "        target_property = extract_target_property(metadata)\n",
    "        #print(target_property)\n",
    "        return atom_types, np.array(coordinates), target_property\n"
   ]
  },
  {
   "cell_type": "code",
   "execution_count": 28,
   "metadata": {},
   "outputs": [],
   "source": [
    "from scipy.spatial.distance import pdist, squareform\n",
    "from collections import Counter\n",
    "\n",
    "def compute_features(atom_types, coordinates):\n",
    "    # Step 1: Count the number of atoms of each type (C, H, O)\n",
    "    atom_counts = Counter(atom_types)\n",
    "    num_c = atom_counts.get('C', 0)\n",
    "    num_h = atom_counts.get('H', 0)\n",
    "    num_o = atom_counts.get('O', 0)\n",
    "    \n",
    "    # Step 2: Compute pairwise distances between all atoms\n",
    "    pairwise_distances = squareform(pdist(coordinates))\n",
    "    \n",
    "    # Step 3: Compute the mean and max pairwise distances\n",
    "    mean_distance = np.mean(pairwise_distances)\n",
    "    max_distance = np.max(pairwise_distances)\n",
    "    \n",
    "    # Step 4: Return the feature vector (you can extend this as needed)\n",
    "    return np.array([num_c, num_h, num_o, mean_distance, max_distance])\n"
   ]
  },
  {
   "cell_type": "code",
   "execution_count": 29,
   "metadata": {},
   "outputs": [],
   "source": [
    "def generate_synthetic_target(features):\n",
    "    # Use a linear combination of features as a temporary target\n",
    "    return 0.5 * features[3] + 0.3 * features[4]  # Mean distance + max distance (adjust as needed)\n"
   ]
  },
  {
   "cell_type": "code",
   "execution_count": null,
   "metadata": {},
   "outputs": [],
   "source": [
    "# Store parsed data\n",
    "molecule_data = []\n",
    "\n",
    "\n",
    "for file_name in os.listdir(xyz_dir):\n",
    "    if file_name.endswith(\".xyz\"):\n",
    "        file_path = os.path.join(xyz_dir, file_name)\n",
    "        atom_types, coordinates, target_property = parse_xyz(file_path)\n",
    "        features = compute_features(atom_types, coordinates)\n",
    "        \n",
    "        # If target property is NaN, generate a synthetic target\n",
    "        if np.isnan(target_property):\n",
    "            target_property = generate_synthetic_target(features)\n",
    "        \n",
    "        molecule_data.append({\n",
    "            \"file_name\": file_name,\n",
    "            \"features\": features,\n",
    "            \"target_property\": target_property\n",
    "        })\n",
    "\n",
    "# Convert to DataFrame\n",
    "df = pd.DataFrame(molecule_data)\n",
    "print(df.head())\n"
   ]
  },
  {
   "cell_type": "code",
   "execution_count": 21,
   "metadata": {},
   "outputs": [
    {
     "name": "stdout",
     "output_type": "stream",
     "text": [
      "4\n",
      "\n",
      "gdb 2\t293.60975\t293.54111\t191.39397\t1.6256\t9.46\t-0.257\t0.0829\t0.3399\t26.1563\t0.034358\t-56.525887\t-56.523026\t-56.522082\t-56.544961\t6.316\t\n",
      "\n",
      "N\t-0.0404260543\t 1.0241077531\t 0.0625637998\t-0.707143\n",
      "\n",
      "H\t 0.0172574639\t 0.0125452063\t-0.0273771593\t 0.235712\n",
      "\n",
      "H\t 0.9157893661\t 1.3587451948\t-0.0287577581\t 0.235712\n",
      "\n",
      "H\t-0.5202777357\t 1.3435321258\t-0.7755426124\t 0.23572\n",
      "\n",
      "1103.8733\t1684.1158\t1684.3072\t3458.7145\t3575.2414\t3575.3343\n",
      "\n",
      "N\tN\t\n",
      "\n",
      "InChI=1S/H3N/h1H3\tInChI=1S/H3N/h1H3\n",
      "\n"
     ]
    }
   ],
   "source": [
    "\n",
    "\n",
    "file_path = \"QM9/dsgdb9nsd.xyz/dsgdb9nsd_000002.xyz\"  # Adjust path if needed\n",
    "with open(file_path, 'r') as f:\n",
    "    lines = f.readlines()\n",
    "    print(\"\\n\".join(lines[-10:]))  # Print the last 10 lines of the file\n"
   ]
  },
  {
   "cell_type": "code",
   "execution_count": 9,
   "metadata": {},
   "outputs": [
    {
     "name": "stdout",
     "output_type": "stream",
     "text": [
      "Number of NaN values in target property: 0\n",
      "Percentage of NaNs: 0.00%\n"
     ]
    }
   ],
   "source": [
    "# Check the number of NaNs in the target property\n",
    "nan_count = df['target_property'].isna().sum()\n",
    "total_count = len(df)\n",
    "\n",
    "print(f\"Number of NaN values in target property: {nan_count}\")\n",
    "print(f\"Percentage of NaNs: {(nan_count / total_count) * 100:.2f}%\")\n"
   ]
  },
  {
   "cell_type": "code",
   "execution_count": 10,
   "metadata": {},
   "outputs": [
    {
     "name": "stdout",
     "output_type": "stream",
     "text": [
      "5\n",
      "gdb 1\t157.7118\t157.70997\t157.70699\t0.\t13.21\t-0.3877\t0.1171\t0.5048\t35.3641\t0.044749\t-40.47893\t-40.476062\t-40.475117\t-40.498597\t6.469\t\n",
      "C\t-0.0126981359\t 1.0858041578\t 0.0080009958\t-0.535689\n",
      "H\t 0.002150416\t-0.0060313176\t 0.0019761204\t 0.133921\n",
      "H\t 1.0117308433\t 1.4637511618\t 0.0002765748\t 0.133922\n",
      "H\t-0.540815069\t 1.4475266138\t-0.8766437152\t 0.133923\n",
      "H\t-0.5238136345\t 1.4379326443\t 0.9063972942\t 0.133923\n",
      "1341.307\t1341.3284\t1341.365\t1562.6731\t1562.7453\t3038.3205\t3151.6034\t3151.6788\t3151.7078\n",
      "C\tC\t\n",
      "InChI=1S/CH4/h1H4\tInChI=1S/CH4/h1H4\n",
      "\n"
     ]
    }
   ],
   "source": [
    "# Print the last 10 lines of the first XYZ file\n",
    "file_path = os.path.join(xyz_dir, \"dsgdb9nsd_000001.xyz\")\n",
    "with open(file_path, 'r') as f:\n",
    "    lines = f.readlines()\n",
    "    print(\"\".join(lines[-10:]))  # Print the last 10 lines for inspection\n"
   ]
  },
  {
   "cell_type": "code",
   "execution_count": 11,
   "metadata": {},
   "outputs": [
    {
     "name": "stdout",
     "output_type": "stream",
     "text": [
      "Training set shape: (107108, 5)\n",
      "Test set shape: (26777, 5)\n"
     ]
    }
   ],
   "source": [
    "from sklearn.model_selection import train_test_split\n",
    "from sklearn.preprocessing import StandardScaler\n",
    "\n",
    "# Expand the features column into a NumPy feature matrix\n",
    "X = np.array([np.array(f) for f in df['features']])\n",
    "\n",
    "# Target vector (target_property)\n",
    "y = df['target_property'].values\n",
    "\n",
    "# Split the dataset into training (80%) and test (20%) sets\n",
    "X_train, X_test, y_train, y_test = train_test_split(X, y, test_size=0.2, random_state=42)\n",
    "\n",
    "# Normalize the features and target using StandardScaler\n",
    "scaler_X = StandardScaler()\n",
    "scaler_y = StandardScaler()\n",
    "\n",
    "X_train = scaler_X.fit_transform(X_train)\n",
    "X_test = scaler_X.transform(X_test)\n",
    "y_train = scaler_y.fit_transform(y_train.reshape(-1, 1)).flatten()\n",
    "y_test = scaler_y.transform(y_test.reshape(-1, 1)).flatten()\n",
    "\n",
    "print(\"Training set shape:\", X_train.shape)\n",
    "print(\"Test set shape:\", X_test.shape)\n"
   ]
  },
  {
   "cell_type": "markdown",
   "metadata": {},
   "source": [
    "More intricate circuit, with added layer of RY, RZ gates, and CNOT gates to improve the circuit’s expressiveness. also updated the weights."
   ]
  },
  {
   "cell_type": "code",
   "execution_count": 12,
   "metadata": {},
   "outputs": [],
   "source": [
    "import pennylane as qml\n",
    "import numpy as np\n",
    "\n",
    "# Number of qubits = number of features\n",
    "n_qubits = X_train.shape[1]\n",
    "dev = qml.device(\"lightning.qubit\", wires=n_qubits)\n",
    "\n",
    "@qml.qnode(dev)\n",
    "def qnn_circuit(inputs, weights):\n",
    "    # =========================\n",
    "    # Step 1: Input Encoding\n",
    "    # =========================\n",
    "    # Encode the classical data using a combination of RX, RY, and RZ rotations\n",
    "    for i in range(n_qubits):\n",
    "        qml.RX(inputs[i], wires=i)\n",
    "        qml.RY(inputs[i] * 1.2, wires=i)  # Add scaling for diversity\n",
    "        qml.RZ(inputs[i] * 0.8, wires=i)\n",
    "\n",
    "    # =========================\n",
    "    # Step 2: Layered Circuit\n",
    "    # =========================\n",
    "    # Add multiple layers of parameterized rotations and entanglement\n",
    "    num_layers = 5  # You can experiment with more layers if your setup allows\n",
    "    for layer in range(num_layers):\n",
    "        # Parameterized rotations (diversify using RX, RY, RZ)\n",
    "        for i in range(n_qubits):\n",
    "            qml.RX(weights[layer * 3 * n_qubits + i], wires=i)\n",
    "            qml.RY(weights[layer * 3 * n_qubits + n_qubits + i], wires=i)\n",
    "            qml.RZ(weights[layer * 3 * n_qubits + 2 * n_qubits + i], wires=i)\n",
    "        \n",
    "        # Entanglement using both CNOT and CZ gates\n",
    "        for i in range(n_qubits - 1):\n",
    "            qml.CNOT(wires=[i, i + 1])  # Local entanglement\n",
    "        for i in range(n_qubits):\n",
    "            target = (i + 2) % n_qubits  # Entangle distant qubits\n",
    "            qml.CZ(wires=[i, target])\n",
    "\n",
    "    # =========================\n",
    "    # Step 3: Measurement\n",
    "    # =========================\n",
    "    return qml.expval(qml.PauliZ(0))\n",
    "\n",
    "\n",
    "\n"
   ]
  },
  {
   "cell_type": "code",
   "execution_count": 13,
   "metadata": {},
   "outputs": [],
   "source": [
    "# Define the Huber loss\n",
    "def huber_loss(weights, X, y, delta=1.0):\n",
    "    predictions = np.array([qnn_circuit(x, weights) for x in X])\n",
    "    predictions = predictions.flatten()\n",
    "    y = y.flatten()\n",
    "    residuals = np.abs(predictions - y)\n",
    "    loss = np.where(residuals <= delta, 0.5 * residuals**2, delta * residuals - 0.5 * delta**2)\n",
    "    return np.mean(loss)\n"
   ]
  },
  {
   "cell_type": "code",
   "execution_count": 14,
   "metadata": {},
   "outputs": [
    {
     "name": "stdout",
     "output_type": "stream",
     "text": [
      "Time taken for a single circuit evaluation: 0.0030 seconds\n"
     ]
    }
   ],
   "source": [
    "import time\n",
    "\n",
    "# Initialize random weights\n",
    "weights = np.random.randn(3 * n_qubits * 5)\n",
    "\n",
    "# Time a single circuit evaluation\n",
    "start = time.time()\n",
    "single_prediction = qnn_circuit(X_train[0], weights)\n",
    "end = time.time()\n",
    "\n",
    "print(f\"Time taken for a single circuit evaluation: {end - start:.4f} seconds\")\n"
   ]
  },
  {
   "cell_type": "code",
   "execution_count": 15,
   "metadata": {},
   "outputs": [
    {
     "name": "stdout",
     "output_type": "stream",
     "text": [
      "Time taken for a single batch of size 50: 0.1265 seconds\n"
     ]
    }
   ],
   "source": [
    "import time\n",
    "\n",
    "# Select a single batch of data\n",
    "batch_size = 50\n",
    "X_batch = X_train[:batch_size]\n",
    "y_batch = y_train[:batch_size]\n",
    "\n",
    "# Time the forward pass and weight update\n",
    "start_time = time.time()\n",
    "\n",
    "weights = np.random.randn(3 * n_qubits * 5)\n",
    "batch_loss = huber_loss(weights, X_batch, y_batch)\n",
    "\n",
    "end_time = time.time()\n",
    "print(f\"Time taken for a single batch of size {batch_size}: {end_time - start_time:.4f} seconds\")\n",
    "\n"
   ]
  },
  {
   "cell_type": "code",
   "execution_count": 16,
   "metadata": {},
   "outputs": [
    {
     "name": "stdout",
     "output_type": "stream",
     "text": [
      "Sample circuit output: -0.21074040688205928\n"
     ]
    }
   ],
   "source": [
    "# Test the quantum circuit with a sample input\n",
    "test_output = qnn_circuit(X_train[0], weights)\n",
    "print(f\"Sample circuit output: {test_output}\")\n"
   ]
  },
  {
   "cell_type": "code",
   "execution_count": 17,
   "metadata": {},
   "outputs": [
    {
     "name": "stdout",
     "output_type": "stream",
     "text": [
      "Epoch 1/20: Average Training Loss = 0.4190, Time = 1780.80 s\n",
      "New best loss found: 0.4190 at epoch 1. Saving model.\n",
      "Epoch 2/20: Average Training Loss = 0.4119, Time = 1311.32 s\n",
      "New best loss found: 0.4119 at epoch 2. Saving model.\n",
      "Epoch 3/20: Average Training Loss = 0.4097, Time = 1206.59 s\n",
      "New best loss found: 0.4097 at epoch 3. Saving model.\n",
      "Epoch 4/20: Average Training Loss = 0.4085, Time = 1207.52 s\n",
      "New best loss found: 0.4085 at epoch 4. Saving model.\n",
      "Epoch 5/20: Average Training Loss = 0.4082, Time = 1203.16 s\n",
      "New best loss found: 0.4082 at epoch 5. Saving model.\n",
      "Epoch 6/20: Average Training Loss = 0.4082, Time = 1205.15 s\n",
      "New best loss found: 0.4082 at epoch 6. Saving model.\n",
      "Epoch 7/20: Average Training Loss = 0.4081, Time = 1208.90 s\n",
      "New best loss found: 0.4081 at epoch 7. Saving model.\n",
      "Epoch 8/20: Average Training Loss = 0.4080, Time = 1208.53 s\n",
      "New best loss found: 0.4080 at epoch 8. Saving model.\n",
      "Epoch 9/20: Average Training Loss = 0.4081, Time = 1218.75 s\n",
      "Epoch 10/20: Average Training Loss = 0.4080, Time = 1205.70 s\n",
      "Epoch 11/20: Average Training Loss = 0.4080, Time = 1212.74 s\n",
      "Stopping early at epoch 11. No improvement for 3 consecutive epochs.\n",
      "Best model weights saved to 'best_qnn_weights.pkl'.\n"
     ]
    },
    {
     "data": {
      "image/png": "[encoded data removed]",
      "text/plain": [
       "<Figure size 640x480 with 1 Axes>"
      ]
     },
     "metadata": {},
     "output_type": "display_data"
    }
   ],
   "source": [
    "import pennylane as qml\n",
    "from pennylane import numpy as np\n",
    "from sklearn.utils import shuffle\n",
    "import matplotlib.pyplot as plt\n",
    "import time\n",
    "import pickle  # To save the best model weights\n",
    "\n",
    "# Initialize weights and optimizer\n",
    "weights = np.random.randn(3 * n_qubits * 5)  # Match the 5-layer advanced circuit\n",
    "opt = qml.AdamOptimizer(stepsize=0.01)  # Start with a lower stepsize for stable updates\n",
    "\n",
    "# Training settings\n",
    "batch_size = 50\n",
    "n_epochs = 20  # Increase epochs to give the deeper circuit time to learn\n",
    "decay_rate = 0.1\n",
    "convergence_limit = 3  # Stop if no improvement after 4 epochs\n",
    "best_loss = float('inf')  # Track the lowest loss\n",
    "epochs_without_improvement = 0  # Counter for early stopping\n",
    "best_weights = None  # Store the best weights\n",
    "\n",
    "# Training loop\n",
    "loss_history = []\n",
    "\n",
    "for epoch in range(n_epochs):\n",
    "    start_time = time.time()\n",
    "\n",
    "    # Update learning rate dynamically\n",
    "    current_stepsize = 0.01 / (1 + decay_rate * epoch)\n",
    "    opt.stepsize = current_stepsize\n",
    "    \n",
    "    # Shuffle data and create mini-batches\n",
    "    X_train_shuffled, y_train_shuffled = shuffle(X_train, y_train)\n",
    "    X_train_batches = [X_train_shuffled[i:i + batch_size] for i in range(0, len(X_train_shuffled), batch_size)]\n",
    "    y_train_batches = [y_train_shuffled[i:i + batch_size] for i in range(0, len(y_train_shuffled), batch_size)]\n",
    "    \n",
    "    epoch_losses = []\n",
    "\n",
    "    # Iterate through mini-batches\n",
    "    for X_batch, y_batch in zip(X_train_batches, y_train_batches):\n",
    "        weights = opt.step(lambda w: huber_loss(w, X_batch, y_batch), weights)\n",
    "        batch_loss = huber_loss(weights, X_batch, y_batch)\n",
    "        epoch_losses.append(batch_loss)\n",
    "    \n",
    "    # Compute average loss for this epoch\n",
    "    avg_epoch_loss = np.mean(epoch_losses)\n",
    "    loss_history.append(avg_epoch_loss)\n",
    "    print(f\"Epoch {epoch + 1}/{n_epochs}: Average Training Loss = {avg_epoch_loss:.4f}, Time = {time.time() - start_time:.2f} s\")\n",
    "\n",
    "    # Check for improvement\n",
    "    if avg_epoch_loss < best_loss:\n",
    "        print(f\"New best loss found: {avg_epoch_loss:.4f} at epoch {epoch + 1}. Saving model.\")\n",
    "        best_loss = avg_epoch_loss\n",
    "        best_weights = weights.copy()  # Save the best weights\n",
    "        epochs_without_improvement = 0  # Reset counter\n",
    "    else:\n",
    "        epochs_without_improvement += 1  # Increment the counter if no improvement\n",
    "\n",
    "    # Early stopping condition\n",
    "    if epochs_without_improvement >= convergence_limit:\n",
    "        print(f\"Stopping early at epoch {epoch + 1}. No improvement for {convergence_limit} consecutive epochs.\")\n",
    "        break\n",
    "\n",
    "# Save the best model weights to a file\n",
    "with open(\"best_qnn_weights.pkl\", \"wb\") as f:\n",
    "    pickle.dump(best_weights, f)\n",
    "    print(\"Best model weights saved to 'best_qnn_weights.pkl'.\")\n",
    "\n",
    "# Plot the loss curve after training\n",
    "plt.plot(range(1, len(loss_history) + 1), loss_history, 'b-o', label='Training Loss')\n",
    "plt.xlabel('Epoch')\n",
    "plt.ylabel('Training Loss')\n",
    "plt.title('Training Loss Curve (Advanced Circuit)')\n",
    "plt.legend()\n",
    "plt.show()\n"
   ]
  },
  {
   "cell_type": "code",
   "execution_count": 22,
   "metadata": {},
   "outputs": [
    {
     "name": "stdout",
     "output_type": "stream",
     "text": [
      "Predicted values (original scale): [[3534.08626347]\n",
      " [3541.13513235]\n",
      " [3610.49866765]\n",
      " [3492.78708749]\n",
      " [3615.06017365]]\n",
      "Actual values (original scale): [[3227.1908]\n",
      " [3808.7752]\n",
      " [3821.1362]\n",
      " [3505.7229]\n",
      " [3532.922 ]]\n",
      "Test Huber Loss: 213.3869\n",
      "Test MSE: 61888.5381\n",
      "Test R² score: 0.1191\n"
     ]
    }
   ],
   "source": [
    "import pickle\n",
    "import numpy as np\n",
    "from sklearn.metrics import mean_squared_error, r2_score\n",
    "\n",
    "# Load the best model weights\n",
    "with open(\"best_qnn_weights.pkl\", \"rb\") as f:\n",
    "    best_weights = pickle.load(f)\n",
    "\n",
    "# Huber loss function for evaluation\n",
    "def huber_loss_test(predictions, y, delta=1.0):\n",
    "    predictions = predictions.flatten()\n",
    "    y = y.flatten()\n",
    "\n",
    "    # Calculate residuals\n",
    "    residuals = np.abs(predictions - y)\n",
    "    \n",
    "    # Apply Huber loss formula\n",
    "    loss = np.where(residuals <= delta,\n",
    "                    0.5 * residuals**2,\n",
    "                    delta * residuals - 0.5 * delta**2)\n",
    "    \n",
    "    return np.mean(loss)\n",
    "\n",
    "# Make predictions on the test set\n",
    "predictions = np.array([qnn_circuit(x, best_weights) for x in X_test])\n",
    "\n",
    "# Inverse-transform the predictions and targets back to the original scale\n",
    "predictions_original = scaler_y.inverse_transform(predictions.reshape(-1, 1))\n",
    "y_test_original = scaler_y.inverse_transform(y_test.reshape(-1, 1))\n",
    "\n",
    "\n",
    "# IMPORTANT: The circuit output should be scaled appropriately\n",
    "# Rescale predictions from [-1, 1] to the target range\n",
    "predictions_scaled = scaler_y.inverse_transform(predictions.reshape(-1, 1))\n",
    "y_test_scaled = scaler_y.inverse_transform(y_test.reshape(-1, 1))\n",
    "\n",
    "# Check if the scales are correct\n",
    "print(f\"Predicted values (original scale): {predictions_scaled[:5]}\")\n",
    "print(f\"Actual values (original scale): {y_test_scaled[:5]}\")\n",
    "\n",
    "\n",
    "# Calculate Huber loss on the test set\n",
    "test_huber_loss = huber_loss_test(predictions_original, y_test_original)\n",
    "print(f\"Test Huber Loss: {test_huber_loss:.4f}\")\n",
    "\n",
    "# Optional: Evaluate with MSE and R² for comparison\n",
    "mse = mean_squared_error(y_test_original, predictions_original)\n",
    "r2 = r2_score(y_test_original, predictions_original)\n",
    "print(f\"Test MSE: {mse:.4f}\")\n",
    "print(f\"Test R² score: {r2:.4f}\")\n"
   ]
  }
 ],
 "metadata": {
  "kernelspec": {
   "display_name": "Python 3",
   "language": "python",
   "name": "python3"
  },
  "language_info": {
   "codemirror_mode": {
    "name": "ipython",
    "version": 3
   },
   "file_extension": ".py",
   "mimetype": "text/x-python",
   "name": "python",
   "nbconvert_exporter": "python",
   "pygments_lexer": "ipython3",
   "version": "3.12.8"
  }
 },
 "nbformat": 4,
 "nbformat_minor": 2
}
