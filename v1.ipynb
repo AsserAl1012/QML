{
 "cells": [
  {
   "cell_type": "code",
   "execution_count": 3,
   "metadata": {},
   "outputs": [],
   "source": [
    "import os\n",
    "import numpy as np\n",
    "import pandas as pd\n",
    "from scipy.spatial.distance import pdist, squareform\n",
    "from collections import Counter\n",
    "from sklearn.preprocessing import StandardScaler\n",
    "from sklearn.model_selection import train_test_split\n",
    "from sklearn.metrics import mean_squared_error, r2_score\n",
    "import pennylane as qml\n",
    "import matplotlib.pyplot as plt\n"
   ]
  },
  {
   "cell_type": "code",
   "execution_count": 4,
   "metadata": {},
   "outputs": [],
   "source": [
    "def extract_target_property(metadata):\n",
    "    \"\"\"\n",
    "    Tries to extract a numerical target property from the last few lines of metadata.\n",
    "    Assumes the target is the last valid float number.\n",
    "    \"\"\"\n",
    "    target_property = np.nan  # Default to NaN in case no value is found\n",
    "    \n",
    "    # Traverse the metadata to find the last valid numerical value\n",
    "    for line in reversed(metadata):\n",
    "        for value in reversed(line.strip().split()):\n",
    "            try:\n",
    "                target_property = float(value)\n",
    "                return target_property  # Return the first valid float found\n",
    "            except ValueError:\n",
    "                continue  # Skip non-numeric values\n",
    "                \n",
    "    return target_property  # Return NaN if no numeric value is found"
   ]
  },
  {
   "cell_type": "code",
   "execution_count": 5,
   "metadata": {},
   "outputs": [],
   "source": [
    "# Directory containing the XYZ files\n",
    "xyz_dir = \"QM9/dsgdb9nsd.xyz\"\n",
    "\n",
    "def parse_xyz(file_path):\n",
    "    with open(file_path, 'r') as f:\n",
    "        lines = f.readlines()\n",
    "        \n",
    "        # Step 1: Get the number of atoms\n",
    "        num_atoms = int(lines[0].strip())\n",
    "        \n",
    "        # Step 2: Extract atomic types and coordinates\n",
    "        atom_types = []\n",
    "        coordinates = []\n",
    "        \n",
    "        for i in range(2, 2 + num_atoms):\n",
    "            parts = lines[i].strip().split()\n",
    "            atom_types.append(parts[0])  # Atom symbol (C, H, O, etc.)\n",
    "            coords = [float(part.replace('*^', 'e')) for part in parts[1:4]]\n",
    "            coordinates.append(coords)\n",
    "        \n",
    "        # Step 3: Extract the metadata and target property\n",
    "        metadata_start = 2 + num_atoms\n",
    "        metadata = lines[metadata_start:]\n",
    "        target_property = extract_target_property(metadata)\n",
    "        \n",
    "        return atom_types, np.array(coordinates), target_property\n"
   ]
  },
  {
   "cell_type": "code",
   "execution_count": 6,
   "metadata": {},
   "outputs": [],
   "source": [
    "from scipy.spatial.distance import pdist, squareform\n",
    "from collections import Counter\n",
    "\n",
    "def compute_features(atom_types, coordinates):\n",
    "    # Step 1: Count the number of atoms of each type (C, H, O)\n",
    "    atom_counts = Counter(atom_types)\n",
    "    num_c = atom_counts.get('C', 0)\n",
    "    num_h = atom_counts.get('H', 0)\n",
    "    num_o = atom_counts.get('O', 0)\n",
    "    \n",
    "    # Step 2: Compute pairwise distances between all atoms\n",
    "    pairwise_distances = squareform(pdist(coordinates))\n",
    "    \n",
    "    # Step 3: Compute the mean and max pairwise distances\n",
    "    mean_distance = np.mean(pairwise_distances)\n",
    "    max_distance = np.max(pairwise_distances)\n",
    "    \n",
    "    # Step 4: Return the feature vector (you can extend this as needed)\n",
    "    return np.array([num_c, num_h, num_o, mean_distance, max_distance])\n"
   ]
  },
  {
   "cell_type": "code",
   "execution_count": 7,
   "metadata": {},
   "outputs": [],
   "source": [
    "def generate_synthetic_target(features):\n",
    "    # Use a linear combination of features as a temporary target\n",
    "    return 0.5 * features[3] + 0.3 * features[4]  # Mean distance + max distance (adjust as needed)\n"
   ]
  },
  {
   "cell_type": "code",
   "execution_count": 8,
   "metadata": {},
   "outputs": [
    {
     "name": "stdout",
     "output_type": "stream",
     "text": [
      "              file_name                                           features  \\\n",
      "0  dsgdb9nsd_000001.xyz  [1.0, 4.0, 0.0, 1.2053341170795622, 1.78315766...   \n",
      "1  dsgdb9nsd_000002.xyz  [0.0, 3.0, 0.0, 0.9884404226522757, 1.61870992...   \n",
      "2  dsgdb9nsd_000003.xyz  [0.0, 2.0, 1.0, 0.7639047756163965, 1.51335786...   \n",
      "3  dsgdb9nsd_000004.xyz      [2.0, 2.0, 0.0, 1.396113812525, 3.3232771722]   \n",
      "4  dsgdb9nsd_000005.xyz  [1.0, 1.0, 0.0, 0.9859315432225048, 2.21834597...   \n",
      "\n",
      "   target_property  \n",
      "0        3151.7078  \n",
      "1        3575.3343  \n",
      "2        3907.6980  \n",
      "3        3557.8599  \n",
      "4        3490.3686  \n"
     ]
    }
   ],
   "source": [
    "# Store parsed data\n",
    "molecule_data = []\n",
    "\n",
    "for file_name in os.listdir(xyz_dir):\n",
    "    if file_name.endswith(\".xyz\"):\n",
    "        file_path = os.path.join(xyz_dir, file_name)\n",
    "        atom_types, coordinates, target_property = parse_xyz(file_path)\n",
    "        features = compute_features(atom_types, coordinates)\n",
    "        \n",
    "        # If target property is NaN, generate a synthetic target\n",
    "        if np.isnan(target_property):\n",
    "            target_property = generate_synthetic_target(features)\n",
    "        \n",
    "        molecule_data.append({\n",
    "            \"file_name\": file_name,\n",
    "            \"features\": features,\n",
    "            \"target_property\": target_property\n",
    "        })\n",
    "\n",
    "# Convert to DataFrame\n",
    "df = pd.DataFrame(molecule_data)\n",
    "print(df.head())\n"
   ]
  },
  {
   "cell_type": "code",
   "execution_count": 9,
   "metadata": {},
   "outputs": [
    {
     "name": "stdout",
     "output_type": "stream",
     "text": [
      "Number of NaN values in target property: 0\n",
      "Percentage of NaNs: 0.00%\n"
     ]
    }
   ],
   "source": [
    "# Check the number of NaNs in the target property\n",
    "nan_count = df['target_property'].isna().sum()\n",
    "total_count = len(df)\n",
    "\n",
    "print(f\"Number of NaN values in target property: {nan_count}\")\n",
    "print(f\"Percentage of NaNs: {(nan_count / total_count) * 100:.2f}%\")\n"
   ]
  },
  {
   "cell_type": "code",
   "execution_count": 10,
   "metadata": {},
   "outputs": [
    {
     "name": "stdout",
     "output_type": "stream",
     "text": [
      "5\n",
      "gdb 1\t157.7118\t157.70997\t157.70699\t0.\t13.21\t-0.3877\t0.1171\t0.5048\t35.3641\t0.044749\t-40.47893\t-40.476062\t-40.475117\t-40.498597\t6.469\t\n",
      "C\t-0.0126981359\t 1.0858041578\t 0.0080009958\t-0.535689\n",
      "H\t 0.002150416\t-0.0060313176\t 0.0019761204\t 0.133921\n",
      "H\t 1.0117308433\t 1.4637511618\t 0.0002765748\t 0.133922\n",
      "H\t-0.540815069\t 1.4475266138\t-0.8766437152\t 0.133923\n",
      "H\t-0.5238136345\t 1.4379326443\t 0.9063972942\t 0.133923\n",
      "1341.307\t1341.3284\t1341.365\t1562.6731\t1562.7453\t3038.3205\t3151.6034\t3151.6788\t3151.7078\n",
      "C\tC\t\n",
      "InChI=1S/CH4/h1H4\tInChI=1S/CH4/h1H4\n",
      "\n"
     ]
    }
   ],
   "source": [
    "# Print the last 10 lines of the first XYZ file\n",
    "file_path = os.path.join(xyz_dir, \"dsgdb9nsd_000001.xyz\")\n",
    "with open(file_path, 'r') as f:\n",
    "    lines = f.readlines()\n",
    "    print(\"\".join(lines[-10:]))  # Print the last 10 lines for inspection\n"
   ]
  },
  {
   "cell_type": "code",
   "execution_count": 11,
   "metadata": {},
   "outputs": [
    {
     "name": "stdout",
     "output_type": "stream",
     "text": [
      "Training set shape: (107108, 5)\n",
      "Test set shape: (26777, 5)\n"
     ]
    }
   ],
   "source": [
    "from sklearn.model_selection import train_test_split\n",
    "from sklearn.preprocessing import StandardScaler\n",
    "\n",
    "# Expand the features column into a NumPy feature matrix\n",
    "X = np.array([np.array(f) for f in df['features']])\n",
    "\n",
    "# Target vector (target_property)\n",
    "y = df['target_property'].values\n",
    "\n",
    "# Split the dataset into training (80%) and test (20%) sets\n",
    "X_train, X_test, y_train, y_test = train_test_split(X, y, test_size=0.2, random_state=42)\n",
    "\n",
    "# Normalize the features and target using StandardScaler\n",
    "scaler_X = StandardScaler()\n",
    "scaler_y = StandardScaler()\n",
    "\n",
    "X_train = scaler_X.fit_transform(X_train)\n",
    "X_test = scaler_X.transform(X_test)\n",
    "y_train = scaler_y.fit_transform(y_train.reshape(-1, 1)).flatten()\n",
    "y_test = scaler_y.transform(y_test.reshape(-1, 1)).flatten()\n",
    "\n",
    "print(\"Training set shape:\", X_train.shape)\n",
    "print(\"Test set shape:\", X_test.shape)\n"
   ]
  },
  {
   "cell_type": "code",
   "execution_count": 40,
   "metadata": {},
   "outputs": [],
   "source": [
    "import pennylane as qml\n",
    "\n",
    "# Number of qubits = number of features (for simplicity)\n",
    "n_qubits = X_train.shape[1]\n",
    "dev = qml.device(\"lightning.qubit\", wires=n_qubits)\n",
    "\n",
    "# Define the parameterized quantum circuit\n",
    "@qml.qnode(dev)\n",
    "def qnn_circuit(inputs, weights):\n",
    "    # Step 1: Encode input features using rotation gates\n",
    "    for i in range(n_qubits):\n",
    "        qml.RY(inputs[i], wires=i)\n",
    "    \n",
    "    # Step 2: Apply parameterized rotations\n",
    "    for i in range(n_qubits):\n",
    "        qml.RY(weights[i], wires=i)\n",
    "        qml.RZ(weights[n_qubits + i], wires=i)\n",
    "    \n",
    "    # Step 3: Apply entangling CNOT gates\n",
    "    for i in range(n_qubits - 1):\n",
    "        qml.CNOT(wires=[i, i + 1])\n",
    "    \n",
    "    # Step 4: Measure the expectation value\n",
    "    return qml.expval(qml.PauliZ(0))\n"
   ]
  },
  {
   "cell_type": "code",
   "execution_count": null,
   "metadata": {},
   "outputs": [
    {
     "name": "stdout",
     "output_type": "stream",
     "text": [
      "Iteration 0: Training Loss = 1.7600\n",
      "Iteration 10: Training Loss = 1.6915\n",
      "Iteration 20: Training Loss = 1.5475\n"
     ]
    }
   ],
   "source": [
    "from pennylane import numpy as np\n",
    "from sklearn.metrics import mean_squared_error\n",
    "\n",
    "# Initialize random weights\n",
    "weights = np.random.randn(2 * n_qubits)\n",
    "\n",
    "# Define the cost function\n",
    "def huber_loss(weights, X, y, delta=1.0):\n",
    "    predictions = np.array([qnn_circuit(x, weights) for x in X])\n",
    "    residuals = np.abs(predictions - y)\n",
    "    \n",
    "    # Apply Huber loss\n",
    "    loss = np.where(residuals <= delta,\n",
    "                    0.5 * residuals**2,\n",
    "                    delta * residuals - 0.5 * delta**2)\n",
    "    \n",
    "    return np.mean(loss)\n",
    "\n",
    "# Use an optimizer (e.g., Gradient Descent)\n",
    "opt = qml.GradientDescentOptimizer(stepsize=0.1)\n",
    "n_iterations = 30\n",
    "\n",
    "# Training loop\n",
    "for iteration in range(n_iterations):\n",
    "    weights = opt.step(lambda w: huber_loss(w, X_train, y_train), weights)\n",
    "    if iteration % 10 == 0:\n",
    "        train_loss = huber_loss(weights, X_train, y_train)\n",
    "        print(f\"Iteration {iteration}: Training Loss = {train_loss:.4f}\")\n"
   ]
  },
  {
   "cell_type": "code",
   "execution_count": 42,
   "metadata": {},
   "outputs": [
    {
     "name": "stdout",
     "output_type": "stream",
     "text": [
      "Test MSE: 92831.1815\n",
      "Test R² score: -0.3213\n"
     ]
    }
   ],
   "source": [
    "from sklearn.metrics import r2_score\n",
    "\n",
    "# Make predictions on the test set\n",
    "predictions = np.array([qnn_circuit(x, weights) for x in X_test])\n",
    "\n",
    "# Inverse-transform the predictions and targets back to the original scale\n",
    "predictions_original = scaler_y.inverse_transform(predictions.reshape(-1, 1))\n",
    "y_test_original = scaler_y.inverse_transform(y_test.reshape(-1, 1))\n",
    "\n",
    "# Compute evaluation metrics\n",
    "mse = mean_squared_error(y_test_original, predictions_original)\n",
    "r2 = r2_score(y_test_original, predictions_original)\n",
    "\n",
    "print(f\"Test MSE: {mse:.4f}\")\n",
    "print(f\"Test R² score: {r2:.4f}\")\n"
   ]
  },
  {
   "cell_type": "code",
   "execution_count": 43,
   "metadata": {},
   "outputs": [
    {
     "data": {
      "image/png": "[encoded data removed]",
      "text/plain": [
       "<Figure size 640x480 with 1 Axes>"
      ]
     },
     "metadata": {},
     "output_type": "display_data"
    }
   ],
   "source": [
    "import matplotlib.pyplot as plt\n",
    "\n",
    "plt.scatter(y_test_original, predictions_original, alpha=0.7, color='blue')\n",
    "plt.plot([y_test_original.min(), y_test_original.max()], \n",
    "         [y_test_original.min(), y_test_original.max()], 'k--', lw=2)\n",
    "plt.xlabel('Actual Target Property')\n",
    "plt.ylabel('Predicted Target Property')\n",
    "plt.title('QNN Predictions vs. Actual')\n",
    "plt.show()\n"
   ]
  }
 ],
 "metadata": {
  "kernelspec": {
   "display_name": "Python 3",
   "language": "python",
   "name": "python3"
  },
  "language_info": {
   "codemirror_mode": {
    "name": "ipython",
    "version": 3
   },
   "file_extension": ".py",
   "mimetype": "text/x-python",
   "name": "python",
   "nbconvert_exporter": "python",
   "pygments_lexer": "ipython3",
   "version": "3.12.8"
  }
 },
 "nbformat": 4,
 "nbformat_minor": 2
}
