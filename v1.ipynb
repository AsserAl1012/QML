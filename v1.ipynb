{
 "cells": [
  {
   "cell_type": "code",
   "execution_count": 3,
   "metadata": {},
   "outputs": [],
   "source": [
    "import os\n",
    "import numpy as np\n",
    "import pandas as pd\n",
    "from scipy.spatial.distance import pdist, squareform\n",
    "from collections import Counter\n",
    "from sklearn.preprocessing import StandardScaler\n",
    "from sklearn.model_selection import train_test_split\n",
    "from sklearn.metrics import mean_squared_error, r2_score\n",
    "import pennylane as qml\n",
    "import matplotlib.pyplot as plt\n"
   ]
  },
  {
   "cell_type": "code",
   "execution_count": 4,
   "metadata": {},
   "outputs": [],
   "source": [
    "def extract_target_property(metadata):\n",
    "    \"\"\"\n",
    "    Tries to extract a numerical target property from the last few lines of metadata.\n",
    "    Assumes the target is the last valid float number.\n",
    "    \"\"\"\n",
    "    target_property = np.nan  # Default to NaN in case no value is found\n",
    "    \n",
    "    # Traverse the metadata to find the last valid numerical value\n",
    "    for line in reversed(metadata):\n",
    "        for value in reversed(line.strip().split()):\n",
    "            try:\n",
    "                target_property = float(value)\n",
    "                return target_property  # Return the first valid float found\n",
    "            except ValueError:\n",
    "                continue  # Skip non-numeric values\n",
    "                \n",
    "    return target_property  # Return NaN if no numeric value is found"
   ]
  },
  {
   "cell_type": "code",
   "execution_count": 5,
   "metadata": {},
   "outputs": [],
   "source": [
    "# Directory containing the XYZ files\n",
    "xyz_dir = \"QM9/dsgdb9nsd.xyz\"\n",
    "\n",
    "def parse_xyz(file_path):\n",
    "    with open(file_path, 'r') as f:\n",
    "        lines = f.readlines()\n",
    "        \n",
    "        # Step 1: Get the number of atoms\n",
    "        num_atoms = int(lines[0].strip())\n",
    "        \n",
    "        # Step 2: Extract atomic types and coordinates\n",
    "        atom_types = []\n",
    "        coordinates = []\n",
    "        \n",
    "        for i in range(2, 2 + num_atoms):\n",
    "            parts = lines[i].strip().split()\n",
    "            atom_types.append(parts[0])  # Atom symbol (C, H, O, etc.)\n",
    "            coords = [float(part.replace('*^', 'e')) for part in parts[1:4]]\n",
    "            coordinates.append(coords)\n",
    "        \n",
    "        # Step 3: Extract the metadata and target property\n",
    "        metadata_start = 2 + num_atoms\n",
    "        metadata = lines[metadata_start:]\n",
    "        target_property = extract_target_property(metadata)\n",
    "        \n",
    "        return atom_types, np.array(coordinates), target_property\n"
   ]
  },
  {
   "cell_type": "code",
   "execution_count": 6,
   "metadata": {},
   "outputs": [],
   "source": [
    "from scipy.spatial.distance import pdist, squareform\n",
    "from collections import Counter\n",
    "\n",
    "def compute_features(atom_types, coordinates):\n",
    "    # Step 1: Count the number of atoms of each type (C, H, O)\n",
    "    atom_counts = Counter(atom_types)\n",
    "    num_c = atom_counts.get('C', 0)\n",
    "    num_h = atom_counts.get('H', 0)\n",
    "    num_o = atom_counts.get('O', 0)\n",
    "    \n",
    "    # Step 2: Compute pairwise distances between all atoms\n",
    "    pairwise_distances = squareform(pdist(coordinates))\n",
    "    \n",
    "    # Step 3: Compute the mean and max pairwise distances\n",
    "    mean_distance = np.mean(pairwise_distances)\n",
    "    max_distance = np.max(pairwise_distances)\n",
    "    \n",
    "    # Step 4: Return the feature vector (you can extend this as needed)\n",
    "    return np.array([num_c, num_h, num_o, mean_distance, max_distance])\n"
   ]
  },
  {
   "cell_type": "code",
   "execution_count": 7,
   "metadata": {},
   "outputs": [],
   "source": [
    "def generate_synthetic_target(features):\n",
    "    # Use a linear combination of features as a temporary target\n",
    "    return 0.5 * features[3] + 0.3 * features[4]  # Mean distance + max distance (adjust as needed)\n"
   ]
  },
  {
   "cell_type": "code",
   "execution_count": 8,
   "metadata": {},
   "outputs": [
    {
     "name": "stdout",
     "output_type": "stream",
     "text": [
      "              file_name                                           features  \\\n",
      "0  dsgdb9nsd_000001.xyz  [1.0, 4.0, 0.0, 1.2053341170795622, 1.78315766...   \n",
      "1  dsgdb9nsd_000002.xyz  [0.0, 3.0, 0.0, 0.9884404226522757, 1.61870992...   \n",
      "2  dsgdb9nsd_000003.xyz  [0.0, 2.0, 1.0, 0.7639047756163965, 1.51335786...   \n",
      "3  dsgdb9nsd_000004.xyz      [2.0, 2.0, 0.0, 1.396113812525, 3.3232771722]   \n",
      "4  dsgdb9nsd_000005.xyz  [1.0, 1.0, 0.0, 0.9859315432225048, 2.21834597...   \n",
      "\n",
      "   target_property  \n",
      "0        3151.7078  \n",
      "1        3575.3343  \n",
      "2        3907.6980  \n",
      "3        3557.8599  \n",
      "4        3490.3686  \n"
     ]
    }
   ],
   "source": [
    "# Store parsed data\n",
    "molecule_data = []\n",
    "\n",
    "for file_name in os.listdir(xyz_dir):\n",
    "    if file_name.endswith(\".xyz\"):\n",
    "        file_path = os.path.join(xyz_dir, file_name)\n",
    "        atom_types, coordinates, target_property = parse_xyz(file_path)\n",
    "        features = compute_features(atom_types, coordinates)\n",
    "        \n",
    "        # If target property is NaN, generate a synthetic target\n",
    "        if np.isnan(target_property):\n",
    "            target_property = generate_synthetic_target(features)\n",
    "        \n",
    "        molecule_data.append({\n",
    "            \"file_name\": file_name,\n",
    "            \"features\": features,\n",
    "            \"target_property\": target_property\n",
    "        })\n",
    "\n",
    "# Convert to DataFrame\n",
    "df = pd.DataFrame(molecule_data)\n",
    "print(df.head())\n"
   ]
  },
  {
   "cell_type": "code",
   "execution_count": 9,
   "metadata": {},
   "outputs": [
    {
     "name": "stdout",
     "output_type": "stream",
     "text": [
      "Number of NaN values in target property: 0\n",
      "Percentage of NaNs: 0.00%\n"
     ]
    }
   ],
   "source": [
    "# Check the number of NaNs in the target property\n",
    "nan_count = df['target_property'].isna().sum()\n",
    "total_count = len(df)\n",
    "\n",
    "print(f\"Number of NaN values in target property: {nan_count}\")\n",
    "print(f\"Percentage of NaNs: {(nan_count / total_count) * 100:.2f}%\")\n"
   ]
  },
  {
   "cell_type": "code",
   "execution_count": 10,
   "metadata": {},
   "outputs": [
    {
     "name": "stdout",
     "output_type": "stream",
     "text": [
      "5\n",
      "gdb 1\t157.7118\t157.70997\t157.70699\t0.\t13.21\t-0.3877\t0.1171\t0.5048\t35.3641\t0.044749\t-40.47893\t-40.476062\t-40.475117\t-40.498597\t6.469\t\n",
      "C\t-0.0126981359\t 1.0858041578\t 0.0080009958\t-0.535689\n",
      "H\t 0.002150416\t-0.0060313176\t 0.0019761204\t 0.133921\n",
      "H\t 1.0117308433\t 1.4637511618\t 0.0002765748\t 0.133922\n",
      "H\t-0.540815069\t 1.4475266138\t-0.8766437152\t 0.133923\n",
      "H\t-0.5238136345\t 1.4379326443\t 0.9063972942\t 0.133923\n",
      "1341.307\t1341.3284\t1341.365\t1562.6731\t1562.7453\t3038.3205\t3151.6034\t3151.6788\t3151.7078\n",
      "C\tC\t\n",
      "InChI=1S/CH4/h1H4\tInChI=1S/CH4/h1H4\n",
      "\n"
     ]
    }
   ],
   "source": [
    "# Print the last 10 lines of the first XYZ file\n",
    "file_path = os.path.join(xyz_dir, \"dsgdb9nsd_000001.xyz\")\n",
    "with open(file_path, 'r') as f:\n",
    "    lines = f.readlines()\n",
    "    print(\"\".join(lines[-10:]))  # Print the last 10 lines for inspection\n"
   ]
  },
  {
   "cell_type": "code",
   "execution_count": 11,
   "metadata": {},
   "outputs": [
    {
     "name": "stdout",
     "output_type": "stream",
     "text": [
      "Training set shape: (107108, 5)\n",
      "Test set shape: (26777, 5)\n"
     ]
    }
   ],
   "source": [
    "from sklearn.model_selection import train_test_split\n",
    "from sklearn.preprocessing import StandardScaler\n",
    "\n",
    "# Expand the features column into a NumPy feature matrix\n",
    "X = np.array([np.array(f) for f in df['features']])\n",
    "\n",
    "# Target vector (target_property)\n",
    "y = df['target_property'].values\n",
    "\n",
    "# Split the dataset into training (80%) and test (20%) sets\n",
    "X_train, X_test, y_train, y_test = train_test_split(X, y, test_size=0.2, random_state=42)\n",
    "\n",
    "# Normalize the features and target using StandardScaler\n",
    "scaler_X = StandardScaler()\n",
    "scaler_y = StandardScaler()\n",
    "\n",
    "X_train = scaler_X.fit_transform(X_train)\n",
    "X_test = scaler_X.transform(X_test)\n",
    "y_train = scaler_y.fit_transform(y_train.reshape(-1, 1)).flatten()\n",
    "y_test = scaler_y.transform(y_test.reshape(-1, 1)).flatten()\n",
    "\n",
    "print(\"Training set shape:\", X_train.shape)\n",
    "print(\"Test set shape:\", X_test.shape)\n"
   ]
  },
  {
   "cell_type": "code",
   "execution_count": 40,
   "metadata": {},
   "outputs": [],
   "source": [
    "import pennylane as qml\n",
    "\n",
    "# Number of qubits = number of features (for simplicity)\n",
    "n_qubits = X_train.shape[1]\n",
    "dev = qml.device(\"lightning.qubit\", wires=n_qubits)\n",
    "\n",
    "# Define the parameterized quantum circuit\n",
    "@qml.qnode(dev)\n",
    "def qnn_circuit(inputs, weights):\n",
    "    # Step 1: Encode input features using rotation gates\n",
    "    for i in range(n_qubits):\n",
    "        qml.RY(inputs[i], wires=i)\n",
    "    \n",
    "    # Step 2: Apply parameterized rotations\n",
    "    for i in range(n_qubits):\n",
    "        qml.RY(weights[i], wires=i)\n",
    "        qml.RZ(weights[n_qubits + i], wires=i)\n",
    "    \n",
    "    # Step 3: Apply entangling CNOT gates\n",
    "    for i in range(n_qubits - 1):\n",
    "        qml.CNOT(wires=[i, i + 1])\n",
    "    \n",
    "    # Step 4: Measure the expectation value\n",
    "    return qml.expval(qml.PauliZ(0))\n"
   ]
  },
  {
   "cell_type": "code",
   "execution_count": null,
   "metadata": {},
   "outputs": [
    {
     "name": "stdout",
     "output_type": "stream",
     "text": [
      "Iteration 0: Training Loss = 1.7600\n",
      "Iteration 10: Training Loss = 1.6915\n",
      "Iteration 20: Training Loss = 1.5475\n"
     ]
    }
   ],
   "source": [
    "from pennylane import numpy as np\n",
    "from sklearn.metrics import mean_squared_error\n",
    "\n",
    "# Initialize random weights\n",
    "weights = np.random.randn(2 * n_qubits)\n",
    "\n",
    "# Define the cost function\n",
    "def huber_loss(weights, X, y, delta=1.0):\n",
    "    predictions = np.array([qnn_circuit(x, weights) for x in X])\n",
    "    residuals = np.abs(predictions - y)\n",
    "    \n",
    "    # Apply Huber loss\n",
    "    loss = np.where(residuals <= delta,\n",
    "                    0.5 * residuals**2,\n",
    "                    delta * residuals - 0.5 * delta**2)\n",
    "    \n",
    "    return np.mean(loss)\n",
    "\n",
    "# Use an optimizer (e.g., Gradient Descent)\n",
    "opt = qml.GradientDescentOptimizer(stepsize=0.1)\n",
    "n_iterations = 30\n",
    "\n",
    "# Training loop\n",
    "for iteration in range(n_iterations):\n",
    "    weights = opt.step(lambda w: huber_loss(w, X_train, y_train), weights)\n",
    "    if iteration % 10 == 0:\n",
    "        train_loss = huber_loss(weights, X_train, y_train)\n",
    "        print(f\"Iteration {iteration}: Training Loss = {train_loss:.4f}\")\n"
   ]
  },
  {
   "cell_type": "code",
   "execution_count": 42,
   "metadata": {},
   "outputs": [
    {
     "name": "stdout",
     "output_type": "stream",
     "text": [
      "Test MSE: 92831.1815\n",
      "Test R² score: -0.3213\n"
     ]
    }
   ],
   "source": [
    "from sklearn.metrics import r2_score\n",
    "\n",
    "# Make predictions on the test set\n",
    "predictions = np.array([qnn_circuit(x, weights) for x in X_test])\n",
    "\n",
    "# Inverse-transform the predictions and targets back to the original scale\n",
    "predictions_original = scaler_y.inverse_transform(predictions.reshape(-1, 1))\n",
    "y_test_original = scaler_y.inverse_transform(y_test.reshape(-1, 1))\n",
    "\n",
    "# Compute evaluation metrics\n",
    "mse = mean_squared_error(y_test_original, predictions_original)\n",
    "r2 = r2_score(y_test_original, predictions_original)\n",
    "\n",
    "print(f\"Test MSE: {mse:.4f}\")\n",
    "print(f\"Test R² score: {r2:.4f}\")\n"
   ]
  },
  {
   "cell_type": "code",
   "execution_count": 43,
   "metadata": {},
   "outputs": [
    {
     "data": {
      "image/png": "[encoded data removed]",
      "text/plain": [
       "<Figure size 640x480 with 1 Axes>"
      ]
     },
     "metadata": {},
     "output_type": "display_data"
    }
   ],
   "source": [
    "import matplotlib.pyplot as plt\n",
    "\n",
    "plt.scatter(y_test_original, predictions_original, alpha=0.7, color='blue')\n",
    "plt.plot([y_test_original.min(), y_test_original.max()], \n",
    "         [y_test_original.min(), y_test_original.max()], 'k--', lw=2)\n",
    "plt.xlabel('Actual Target Property')\n",
    "plt.ylabel('Predicted Target Property')\n",
    "plt.title('QNN Predictions vs. Actual')\n",
    "plt.show()\n"
   ]
  },
  {
   "cell_type": "markdown",
   "metadata": {},
   "source": [
    "More intricate circuit, with added layer of RY, RZ gates, and CNOT gates to improve the circuit’s expressiveness. also updated the weights."
   ]
  },
  {
   "cell_type": "code",
   "execution_count": 48,
   "metadata": {},
   "outputs": [],
   "source": [
    "import pennylane as qml\n",
    "\n",
    "# Number of qubits = number of features (for simplicity)\n",
    "n_qubits = X_train.shape[1]\n",
    "dev = qml.device(\"lightning.qubit\", wires=n_qubits)\n",
    "# Define the Adam optimizer before training\n",
    "opt = qml.AdamOptimizer(stepsize=0.05)  # You can adjust the stepsize if needed\n",
    "\n",
    "\n",
    "@qml.qnode(dev)\n",
    "def qnn_circuit(inputs, weights):\n",
    "    # Step 1: Encode input features using rotation gates\n",
    "    for i in range(n_qubits):\n",
    "        qml.RY(inputs[i], wires=i)\n",
    "    \n",
    "    # Step 2: First layer of parameterized rotations\n",
    "    for i in range(n_qubits):\n",
    "        qml.RY(weights[i], wires=i)\n",
    "        qml.RZ(weights[n_qubits + i], wires=i)\n",
    "    \n",
    "    # First layer of entanglement\n",
    "    for i in range(n_qubits - 1):\n",
    "        qml.CNOT(wires=[i, i + 1])\n",
    "    \n",
    "    # Step 3: Second layer of parameterized rotations\n",
    "    for i in range(n_qubits):\n",
    "        qml.RY(weights[2 * n_qubits + i], wires=i)\n",
    "        qml.RZ(weights[3 * n_qubits + i], wires=i)\n",
    "    \n",
    "    # Second layer of entanglement\n",
    "    for i in range(n_qubits - 1):\n",
    "        qml.CNOT(wires=[i, i + 1])\n",
    "    \n",
    "    # Measurement\n",
    "    return qml.expval(qml.PauliZ(0))\n"
   ]
  },
  {
   "cell_type": "code",
   "execution_count": 49,
   "metadata": {},
   "outputs": [],
   "source": [
    "# Define the Huber loss\n",
    "def huber_loss(weights, X, y, delta=1.0):\n",
    "    predictions = np.array([qnn_circuit(x, weights) for x in X])\n",
    "    predictions = predictions.flatten()\n",
    "    y = y.flatten()\n",
    "    residuals = np.abs(predictions - y)\n",
    "    loss = np.where(residuals <= delta, 0.5 * residuals**2, delta * residuals - 0.5 * delta**2)\n",
    "    return np.mean(loss)\n"
   ]
  },
  {
   "cell_type": "code",
   "execution_count": 50,
   "metadata": {},
   "outputs": [
    {
     "name": "stdout",
     "output_type": "stream",
     "text": [
      "Time taken for a single circuit evaluation: 0.0030 seconds\n"
     ]
    }
   ],
   "source": [
    "import time\n",
    "\n",
    "# Initialize random weights\n",
    "weights = np.random.randn(4 * n_qubits)\n",
    "\n",
    "# Time a single circuit evaluation\n",
    "start = time.time()\n",
    "single_prediction = qnn_circuit(X_train[0], weights)\n",
    "end = time.time()\n",
    "\n",
    "print(f\"Time taken for a single circuit evaluation: {end - start:.4f} seconds\")\n"
   ]
  },
  {
   "cell_type": "code",
   "execution_count": 51,
   "metadata": {},
   "outputs": [
    {
     "name": "stdout",
     "output_type": "stream",
     "text": [
      "Time taken for a single batch of size 50: 0.0690 seconds\n"
     ]
    }
   ],
   "source": [
    "import time\n",
    "\n",
    "# Select a single batch of data\n",
    "batch_size = 50\n",
    "X_batch = X_train[:batch_size]\n",
    "y_batch = y_train[:batch_size]\n",
    "\n",
    "# Time the forward pass and weight update\n",
    "start_time = time.time()\n",
    "\n",
    "weights = np.random.randn(4 * n_qubits)\n",
    "batch_loss = huber_loss(weights, X_batch, y_batch)\n",
    "\n",
    "end_time = time.time()\n",
    "print(f\"Time taken for a single batch of size {batch_size}: {end_time - start_time:.4f} seconds\")\n",
    "\n"
   ]
  },
  {
   "cell_type": "code",
   "execution_count": 52,
   "metadata": {},
   "outputs": [
    {
     "name": "stdout",
     "output_type": "stream",
     "text": [
      "Sample circuit output: -0.604699056341384\n"
     ]
    }
   ],
   "source": [
    "# Test the quantum circuit with a sample input\n",
    "test_output = qnn_circuit(X_train[0], weights)\n",
    "print(f\"Sample circuit output: {test_output}\")\n"
   ]
  },
  {
   "cell_type": "code",
   "execution_count": 54,
   "metadata": {},
   "outputs": [
    {
     "name": "stdout",
     "output_type": "stream",
     "text": [
      "Epoch 1/10: Average Training Loss = 0.4068, Time = 384.38 s\n"
     ]
    },
    {
     "data": {
      "image/png": "[encoded data removed]",
      "text/plain": [
       "<Figure size 640x480 with 1 Axes>"
      ]
     },
     "metadata": {},
     "output_type": "display_data"
    },
    {
     "name": "stdout",
     "output_type": "stream",
     "text": [
      "Epoch 2/10: Average Training Loss = 0.4057, Time = 382.23 s\n"
     ]
    },
    {
     "data": {
      "text/plain": [
       "<Figure size 640x480 with 0 Axes>"
      ]
     },
     "metadata": {},
     "output_type": "display_data"
    },
    {
     "ename": "KeyboardInterrupt",
     "evalue": "",
     "output_type": "error",
     "traceback": [
      "\u001b[1;31m---------------------------------------------------------------------------\u001b[0m",
      "\u001b[1;31mKeyboardInterrupt\u001b[0m                         Traceback (most recent call last)",
      "Cell \u001b[1;32mIn[54], line 47\u001b[0m\n\u001b[0;32m     45\u001b[0m \u001b[38;5;66;03m# Iterate through mini-batches\u001b[39;00m\n\u001b[0;32m     46\u001b[0m \u001b[38;5;28;01mfor\u001b[39;00m X_batch, y_batch \u001b[38;5;129;01min\u001b[39;00m \u001b[38;5;28mzip\u001b[39m(X_train_batches, y_train_batches):\n\u001b[1;32m---> 47\u001b[0m     weights \u001b[38;5;241m=\u001b[39m \u001b[43mopt\u001b[49m\u001b[38;5;241;43m.\u001b[39;49m\u001b[43mstep\u001b[49m\u001b[43m(\u001b[49m\u001b[38;5;28;43;01mlambda\u001b[39;49;00m\u001b[43m \u001b[49m\u001b[43mw\u001b[49m\u001b[43m:\u001b[49m\u001b[43m \u001b[49m\u001b[43mhuber_loss\u001b[49m\u001b[43m(\u001b[49m\u001b[43mw\u001b[49m\u001b[43m,\u001b[49m\u001b[43m \u001b[49m\u001b[43mX_batch\u001b[49m\u001b[43m,\u001b[49m\u001b[43m \u001b[49m\u001b[43my_batch\u001b[49m\u001b[43m)\u001b[49m\u001b[43m,\u001b[49m\u001b[43m \u001b[49m\u001b[43mweights\u001b[49m\u001b[43m)\u001b[49m\n\u001b[0;32m     48\u001b[0m     batch_loss \u001b[38;5;241m=\u001b[39m huber_loss(weights, X_batch, y_batch)\n\u001b[0;32m     49\u001b[0m     epoch_losses\u001b[38;5;241m.\u001b[39mappend(batch_loss)\n",
      "File \u001b[1;32m~\\AppData\\Local\\Packages\\PythonSoftwareFoundation.Python.3.12_qbz5n2kfra8p0\\LocalCache\\local-packages\\Python312\\site-packages\\pennylane\\optimize\\gradient_descent.py:93\u001b[0m, in \u001b[0;36mGradientDescentOptimizer.step\u001b[1;34m(self, objective_fn, grad_fn, *args, **kwargs)\u001b[0m\n\u001b[0;32m     75\u001b[0m \u001b[38;5;28;01mdef\u001b[39;00m \u001b[38;5;21mstep\u001b[39m(\u001b[38;5;28mself\u001b[39m, objective_fn, \u001b[38;5;241m*\u001b[39margs, grad_fn\u001b[38;5;241m=\u001b[39m\u001b[38;5;28;01mNone\u001b[39;00m, \u001b[38;5;241m*\u001b[39m\u001b[38;5;241m*\u001b[39mkwargs):\n\u001b[0;32m     76\u001b[0m \u001b[38;5;250m    \u001b[39m\u001b[38;5;124;03m\"\"\"Update trainable arguments with one step of the optimizer.\u001b[39;00m\n\u001b[0;32m     77\u001b[0m \n\u001b[0;32m     78\u001b[0m \u001b[38;5;124;03m    Args:\u001b[39;00m\n\u001b[1;32m   (...)\u001b[0m\n\u001b[0;32m     90\u001b[0m \u001b[38;5;124;03m        If single arg is provided, list [array] is replaced by array.\u001b[39;00m\n\u001b[0;32m     91\u001b[0m \u001b[38;5;124;03m    \"\"\"\u001b[39;00m\n\u001b[1;32m---> 93\u001b[0m     g, _ \u001b[38;5;241m=\u001b[39m \u001b[38;5;28;43mself\u001b[39;49m\u001b[38;5;241;43m.\u001b[39;49m\u001b[43mcompute_grad\u001b[49m\u001b[43m(\u001b[49m\u001b[43mobjective_fn\u001b[49m\u001b[43m,\u001b[49m\u001b[43m \u001b[49m\u001b[43margs\u001b[49m\u001b[43m,\u001b[49m\u001b[43m \u001b[49m\u001b[43mkwargs\u001b[49m\u001b[43m,\u001b[49m\u001b[43m \u001b[49m\u001b[43mgrad_fn\u001b[49m\u001b[38;5;241;43m=\u001b[39;49m\u001b[43mgrad_fn\u001b[49m\u001b[43m)\u001b[49m\n\u001b[0;32m     94\u001b[0m     new_args \u001b[38;5;241m=\u001b[39m \u001b[38;5;28mself\u001b[39m\u001b[38;5;241m.\u001b[39mapply_grad(g, args)\n\u001b[0;32m     96\u001b[0m     \u001b[38;5;66;03m# unwrap from list if one argument, cleaner return\u001b[39;00m\n",
      "File \u001b[1;32m~\\AppData\\Local\\Packages\\PythonSoftwareFoundation.Python.3.12_qbz5n2kfra8p0\\LocalCache\\local-packages\\Python312\\site-packages\\pennylane\\optimize\\gradient_descent.py:122\u001b[0m, in \u001b[0;36mGradientDescentOptimizer.compute_grad\u001b[1;34m(objective_fn, args, kwargs, grad_fn)\u001b[0m\n\u001b[0;32m    104\u001b[0m \u001b[38;5;250m\u001b[39m\u001b[38;5;124mr\u001b[39m\u001b[38;5;124;03m\"\"\"Compute the gradient of the objective function at the given point and return it along with\u001b[39;00m\n\u001b[0;32m    105\u001b[0m \u001b[38;5;124;03mthe objective function forward pass (if available).\u001b[39;00m\n\u001b[0;32m    106\u001b[0m \n\u001b[1;32m   (...)\u001b[0m\n\u001b[0;32m    119\u001b[0m \u001b[38;5;124;03m    will not be evaluated and instead ``None`` will be returned.\u001b[39;00m\n\u001b[0;32m    120\u001b[0m \u001b[38;5;124;03m\"\"\"\u001b[39;00m\n\u001b[0;32m    121\u001b[0m g \u001b[38;5;241m=\u001b[39m get_gradient(objective_fn) \u001b[38;5;28;01mif\u001b[39;00m grad_fn \u001b[38;5;129;01mis\u001b[39;00m \u001b[38;5;28;01mNone\u001b[39;00m \u001b[38;5;28;01melse\u001b[39;00m grad_fn\n\u001b[1;32m--> 122\u001b[0m grad \u001b[38;5;241m=\u001b[39m \u001b[43mg\u001b[49m\u001b[43m(\u001b[49m\u001b[38;5;241;43m*\u001b[39;49m\u001b[43margs\u001b[49m\u001b[43m,\u001b[49m\u001b[43m \u001b[49m\u001b[38;5;241;43m*\u001b[39;49m\u001b[38;5;241;43m*\u001b[39;49m\u001b[43mkwargs\u001b[49m\u001b[43m)\u001b[49m\n\u001b[0;32m    123\u001b[0m forward \u001b[38;5;241m=\u001b[39m \u001b[38;5;28mgetattr\u001b[39m(g, \u001b[38;5;124m\"\u001b[39m\u001b[38;5;124mforward\u001b[39m\u001b[38;5;124m\"\u001b[39m, \u001b[38;5;28;01mNone\u001b[39;00m)\n\u001b[0;32m    125\u001b[0m num_trainable_args \u001b[38;5;241m=\u001b[39m \u001b[38;5;28msum\u001b[39m(\u001b[38;5;28mgetattr\u001b[39m(arg, \u001b[38;5;124m\"\u001b[39m\u001b[38;5;124mrequires_grad\u001b[39m\u001b[38;5;124m\"\u001b[39m, \u001b[38;5;28;01mFalse\u001b[39;00m) \u001b[38;5;28;01mfor\u001b[39;00m arg \u001b[38;5;129;01min\u001b[39;00m args)\n",
      "File \u001b[1;32m~\\AppData\\Local\\Packages\\PythonSoftwareFoundation.Python.3.12_qbz5n2kfra8p0\\LocalCache\\local-packages\\Python312\\site-packages\\pennylane\\_grad.py:224\u001b[0m, in \u001b[0;36mgrad.__call__\u001b[1;34m(self, *args, **kwargs)\u001b[0m\n\u001b[0;32m    221\u001b[0m     \u001b[38;5;28mself\u001b[39m\u001b[38;5;241m.\u001b[39m_forward \u001b[38;5;241m=\u001b[39m \u001b[38;5;28mself\u001b[39m\u001b[38;5;241m.\u001b[39m_fun(\u001b[38;5;241m*\u001b[39margs, \u001b[38;5;241m*\u001b[39m\u001b[38;5;241m*\u001b[39mkwargs)\n\u001b[0;32m    222\u001b[0m     \u001b[38;5;28;01mreturn\u001b[39;00m ()\n\u001b[1;32m--> 224\u001b[0m grad_value, ans \u001b[38;5;241m=\u001b[39m \u001b[43mgrad_fn\u001b[49m\u001b[43m(\u001b[49m\u001b[38;5;241;43m*\u001b[39;49m\u001b[43margs\u001b[49m\u001b[43m,\u001b[49m\u001b[43m \u001b[49m\u001b[38;5;241;43m*\u001b[39;49m\u001b[38;5;241;43m*\u001b[39;49m\u001b[43mkwargs\u001b[49m\u001b[43m)\u001b[49m  \u001b[38;5;66;03m# pylint: disable=not-callable\u001b[39;00m\n\u001b[0;32m    225\u001b[0m \u001b[38;5;28mself\u001b[39m\u001b[38;5;241m.\u001b[39m_forward \u001b[38;5;241m=\u001b[39m ans\n\u001b[0;32m    227\u001b[0m \u001b[38;5;28;01mreturn\u001b[39;00m grad_value\n",
      "File \u001b[1;32m~\\AppData\\Local\\Packages\\PythonSoftwareFoundation.Python.3.12_qbz5n2kfra8p0\\LocalCache\\local-packages\\Python312\\site-packages\\autograd\\wrap_util.py:20\u001b[0m, in \u001b[0;36munary_to_nary.<locals>.nary_operator.<locals>.nary_f\u001b[1;34m(*args, **kwargs)\u001b[0m\n\u001b[0;32m     18\u001b[0m \u001b[38;5;28;01melse\u001b[39;00m:\n\u001b[0;32m     19\u001b[0m     x \u001b[38;5;241m=\u001b[39m \u001b[38;5;28mtuple\u001b[39m(args[i] \u001b[38;5;28;01mfor\u001b[39;00m i \u001b[38;5;129;01min\u001b[39;00m argnum)\n\u001b[1;32m---> 20\u001b[0m \u001b[38;5;28;01mreturn\u001b[39;00m \u001b[43munary_operator\u001b[49m\u001b[43m(\u001b[49m\u001b[43munary_f\u001b[49m\u001b[43m,\u001b[49m\u001b[43m \u001b[49m\u001b[43mx\u001b[49m\u001b[43m,\u001b[49m\u001b[43m \u001b[49m\u001b[38;5;241;43m*\u001b[39;49m\u001b[43mnary_op_args\u001b[49m\u001b[43m,\u001b[49m\u001b[43m \u001b[49m\u001b[38;5;241;43m*\u001b[39;49m\u001b[38;5;241;43m*\u001b[39;49m\u001b[43mnary_op_kwargs\u001b[49m\u001b[43m)\u001b[49m\n",
      "File \u001b[1;32m~\\AppData\\Local\\Packages\\PythonSoftwareFoundation.Python.3.12_qbz5n2kfra8p0\\LocalCache\\local-packages\\Python312\\site-packages\\pennylane\\_grad.py:250\u001b[0m, in \u001b[0;36mgrad._grad_with_forward\u001b[1;34m(fun, x)\u001b[0m\n\u001b[0;32m    244\u001b[0m \u001b[38;5;28;01mif\u001b[39;00m vspace(ans)\u001b[38;5;241m.\u001b[39msize \u001b[38;5;241m!=\u001b[39m \u001b[38;5;241m1\u001b[39m:\n\u001b[0;32m    245\u001b[0m     \u001b[38;5;28;01mraise\u001b[39;00m \u001b[38;5;167;01mTypeError\u001b[39;00m(\n\u001b[0;32m    246\u001b[0m         \u001b[38;5;124m\"\u001b[39m\u001b[38;5;124mGrad only applies to real scalar-output functions. \u001b[39m\u001b[38;5;124m\"\u001b[39m\n\u001b[0;32m    247\u001b[0m         \u001b[38;5;124m\"\u001b[39m\u001b[38;5;124mTry jacobian, elementwise_grad or holomorphic_grad.\u001b[39m\u001b[38;5;124m\"\u001b[39m\n\u001b[0;32m    248\u001b[0m     )\n\u001b[1;32m--> 250\u001b[0m grad_value \u001b[38;5;241m=\u001b[39m \u001b[43mvjp\u001b[49m\u001b[43m(\u001b[49m\u001b[43mvspace\u001b[49m\u001b[43m(\u001b[49m\u001b[43mans\u001b[49m\u001b[43m)\u001b[49m\u001b[38;5;241;43m.\u001b[39;49m\u001b[43mones\u001b[49m\u001b[43m(\u001b[49m\u001b[43m)\u001b[49m\u001b[43m)\u001b[49m\n\u001b[0;32m    251\u001b[0m \u001b[38;5;28;01mreturn\u001b[39;00m grad_value, ans\n",
      "File \u001b[1;32m~\\AppData\\Local\\Packages\\PythonSoftwareFoundation.Python.3.12_qbz5n2kfra8p0\\LocalCache\\local-packages\\Python312\\site-packages\\autograd\\core.py:14\u001b[0m, in \u001b[0;36mmake_vjp.<locals>.vjp\u001b[1;34m(g)\u001b[0m\n\u001b[1;32m---> 14\u001b[0m \u001b[38;5;28;01mdef\u001b[39;00m \u001b[38;5;21mvjp\u001b[39m(g): \u001b[38;5;28;01mreturn\u001b[39;00m \u001b[43mbackward_pass\u001b[49m\u001b[43m(\u001b[49m\u001b[43mg\u001b[49m\u001b[43m,\u001b[49m\u001b[43m \u001b[49m\u001b[43mend_node\u001b[49m\u001b[43m)\u001b[49m\n",
      "File \u001b[1;32m~\\AppData\\Local\\Packages\\PythonSoftwareFoundation.Python.3.12_qbz5n2kfra8p0\\LocalCache\\local-packages\\Python312\\site-packages\\autograd\\core.py:23\u001b[0m, in \u001b[0;36mbackward_pass\u001b[1;34m(g, end_node)\u001b[0m\n\u001b[0;32m     21\u001b[0m     ingrads \u001b[38;5;241m=\u001b[39m node\u001b[38;5;241m.\u001b[39mvjp(outgrad[\u001b[38;5;241m0\u001b[39m])\n\u001b[0;32m     22\u001b[0m     \u001b[38;5;28;01mfor\u001b[39;00m parent, ingrad \u001b[38;5;129;01min\u001b[39;00m \u001b[38;5;28mzip\u001b[39m(node\u001b[38;5;241m.\u001b[39mparents, ingrads):\n\u001b[1;32m---> 23\u001b[0m         outgrads[parent] \u001b[38;5;241m=\u001b[39m \u001b[43madd_outgrads\u001b[49m\u001b[43m(\u001b[49m\u001b[43moutgrads\u001b[49m\u001b[38;5;241;43m.\u001b[39;49m\u001b[43mget\u001b[49m\u001b[43m(\u001b[49m\u001b[43mparent\u001b[49m\u001b[43m)\u001b[49m\u001b[43m,\u001b[49m\u001b[43m \u001b[49m\u001b[43mingrad\u001b[49m\u001b[43m)\u001b[49m\n\u001b[0;32m     24\u001b[0m \u001b[38;5;28;01mreturn\u001b[39;00m outgrad[\u001b[38;5;241m0\u001b[39m]\n",
      "File \u001b[1;32m~\\AppData\\Local\\Packages\\PythonSoftwareFoundation.Python.3.12_qbz5n2kfra8p0\\LocalCache\\local-packages\\Python312\\site-packages\\autograd\\core.py:165\u001b[0m, in \u001b[0;36madd_outgrads\u001b[1;34m(prev_g_flagged, g)\u001b[0m\n\u001b[0;32m    163\u001b[0m \u001b[38;5;28;01mif\u001b[39;00m mutable:\n\u001b[0;32m    164\u001b[0m     \u001b[38;5;28;01mif\u001b[39;00m sparse:\n\u001b[1;32m--> 165\u001b[0m         \u001b[38;5;28;01mreturn\u001b[39;00m \u001b[43msparse_add\u001b[49m\u001b[43m(\u001b[49m\u001b[43mvs\u001b[49m\u001b[43m,\u001b[49m\u001b[43m \u001b[49m\u001b[43mprev_g\u001b[49m\u001b[43m,\u001b[49m\u001b[43m \u001b[49m\u001b[43mg\u001b[49m\u001b[43m)\u001b[49m, \u001b[38;5;28;01mTrue\u001b[39;00m\n\u001b[0;32m    166\u001b[0m     \u001b[38;5;28;01melse\u001b[39;00m:\n\u001b[0;32m    167\u001b[0m         \u001b[38;5;28;01mreturn\u001b[39;00m vs\u001b[38;5;241m.\u001b[39mmut_add(prev_g, g), \u001b[38;5;28;01mTrue\u001b[39;00m\n",
      "File \u001b[1;32m~\\AppData\\Local\\Packages\\PythonSoftwareFoundation.Python.3.12_qbz5n2kfra8p0\\LocalCache\\local-packages\\Python312\\site-packages\\autograd\\tracer.py:48\u001b[0m, in \u001b[0;36mprimitive.<locals>.f_wrapped\u001b[1;34m(*args, **kwargs)\u001b[0m\n\u001b[0;32m     46\u001b[0m     \u001b[38;5;28;01mreturn\u001b[39;00m new_box(ans, trace, node)\n\u001b[0;32m     47\u001b[0m \u001b[38;5;28;01melse\u001b[39;00m:\n\u001b[1;32m---> 48\u001b[0m     \u001b[38;5;28;01mreturn\u001b[39;00m \u001b[43mf_raw\u001b[49m\u001b[43m(\u001b[49m\u001b[38;5;241;43m*\u001b[39;49m\u001b[43margs\u001b[49m\u001b[43m,\u001b[49m\u001b[43m \u001b[49m\u001b[38;5;241;43m*\u001b[39;49m\u001b[38;5;241;43m*\u001b[39;49m\u001b[43mkwargs\u001b[49m\u001b[43m)\u001b[49m\n",
      "File \u001b[1;32m~\\AppData\\Local\\Packages\\PythonSoftwareFoundation.Python.3.12_qbz5n2kfra8p0\\LocalCache\\local-packages\\Python312\\site-packages\\autograd\\core.py:186\u001b[0m, in \u001b[0;36msparse_add\u001b[1;34m(vs, x_prev, x_new)\u001b[0m\n\u001b[0;32m    183\u001b[0m \u001b[38;5;129m@primitive\u001b[39m\n\u001b[0;32m    184\u001b[0m \u001b[38;5;28;01mdef\u001b[39;00m \u001b[38;5;21msparse_add\u001b[39m(vs, x_prev, x_new):\n\u001b[0;32m    185\u001b[0m     x_prev \u001b[38;5;241m=\u001b[39m x_prev \u001b[38;5;28;01mif\u001b[39;00m x_prev \u001b[38;5;129;01mis\u001b[39;00m \u001b[38;5;129;01mnot\u001b[39;00m \u001b[38;5;28;01mNone\u001b[39;00m \u001b[38;5;28;01melse\u001b[39;00m vs\u001b[38;5;241m.\u001b[39mzeros()\n\u001b[1;32m--> 186\u001b[0m     \u001b[38;5;28;01mreturn\u001b[39;00m \u001b[43mx_new\u001b[49m\u001b[38;5;241;43m.\u001b[39;49m\u001b[43mmut_add\u001b[49m\u001b[43m(\u001b[49m\u001b[43mx_prev\u001b[49m\u001b[43m)\u001b[49m\n",
      "File \u001b[1;32m~\\AppData\\Local\\Packages\\PythonSoftwareFoundation.Python.3.12_qbz5n2kfra8p0\\LocalCache\\local-packages\\Python312\\site-packages\\autograd\\numpy\\numpy_vjps.py:698\u001b[0m, in \u001b[0;36muntake.<locals>.mut_add\u001b[1;34m(A)\u001b[0m\n\u001b[0;32m    697\u001b[0m \u001b[38;5;28;01mdef\u001b[39;00m \u001b[38;5;21mmut_add\u001b[39m(A):\n\u001b[1;32m--> 698\u001b[0m     \u001b[43monp\u001b[49m\u001b[38;5;241;43m.\u001b[39;49m\u001b[43madd\u001b[49m\u001b[38;5;241;43m.\u001b[39;49m\u001b[43mat\u001b[49m\u001b[43m(\u001b[49m\u001b[43mA\u001b[49m\u001b[43m,\u001b[49m\u001b[43m \u001b[49m\u001b[43midx\u001b[49m\u001b[43m,\u001b[49m\u001b[43m \u001b[49m\u001b[43mx\u001b[49m\u001b[43m)\u001b[49m\n\u001b[0;32m    699\u001b[0m     \u001b[38;5;28;01mreturn\u001b[39;00m A\n",
      "\u001b[1;31mKeyboardInterrupt\u001b[0m: "
     ]
    }
   ],
   "source": [
    "import pennylane as qml\n",
    "from pennylane import numpy as np\n",
    "from sklearn.utils import shuffle\n",
    "import matplotlib.pyplot as plt\n",
    "\n",
    "# Initialize random weights and optimizer\n",
    "weights = np.random.randn(4 * n_qubits)\n",
    "initial_stepsize = 0.05  # Start with a small learning rate\n",
    "opt = qml.AdamOptimizer(stepsize=initial_stepsize)\n",
    "\n",
    "# Training settings\n",
    "batch_size = 50\n",
    "n_epochs = 10\n",
    "decay_rate = 0.1\n",
    "\n",
    "# Dynamic plot setup\n",
    "plt.ion()  # Enable interactive mode\n",
    "fig, ax = plt.subplots()\n",
    "line, = ax.plot([], [], 'b-', label='Training Loss')  # Initial empty plot\n",
    "plt.xlabel('Epoch')\n",
    "plt.ylabel('Training Loss')\n",
    "plt.title('Dynamic Training Loss')\n",
    "plt.legend()\n",
    "\n",
    "# Dynamic axis range setup\n",
    "ax.set_xlim(0, n_epochs)\n",
    "ax.set_ylim(0.38, 0.43)  # You can adjust based on expected loss range\n",
    "\n",
    "# Training loop\n",
    "loss_history = []\n",
    "for epoch in range(n_epochs):\n",
    "    start_time = time.time()\n",
    "    \n",
    "    # Update learning rate dynamically\n",
    "    current_stepsize = initial_stepsize / (1 + decay_rate * epoch)\n",
    "    opt.stepsize = current_stepsize\n",
    "    \n",
    "    # Shuffle data and create mini-batches\n",
    "    X_train_shuffled, y_train_shuffled = shuffle(X_train, y_train)\n",
    "    X_train_batches = [X_train_shuffled[i:i + batch_size] for i in range(0, len(X_train_shuffled), batch_size)]\n",
    "    y_train_batches = [y_train_shuffled[i:i + batch_size] for i in range(0, len(y_train_shuffled), batch_size)]\n",
    "    \n",
    "    epoch_losses = []\n",
    "\n",
    "    # Iterate through mini-batches\n",
    "    for X_batch, y_batch in zip(X_train_batches, y_train_batches):\n",
    "        weights = opt.step(lambda w: huber_loss(w, X_batch, y_batch), weights)\n",
    "        batch_loss = huber_loss(weights, X_batch, y_batch)\n",
    "        epoch_losses.append(batch_loss)\n",
    "    \n",
    "    # Compute average loss for this epoch\n",
    "    avg_epoch_loss = np.mean(epoch_losses)\n",
    "    loss_history.append(avg_epoch_loss)\n",
    "    print(f\"Epoch {epoch + 1}/{n_epochs}: Average Training Loss = {avg_epoch_loss:.4f}, Time = {time.time() - start_time:.2f} s\")\n",
    "    \n",
    "    # Update the dynamic plot\n",
    "    line.set_xdata(range(1, epoch + 2))  # Update x-axis data\n",
    "    line.set_ydata(loss_history)  # Update y-axis data\n",
    "    \n",
    "    # Adjust plot limits dynamically to fit the new data\n",
    "    ax.relim()\n",
    "    ax.autoscale_view()\n",
    "    \n",
    "    plt.draw()\n",
    "    plt.pause(0.1)  # Pause for a short moment to update the plot\n",
    "\n",
    "plt.ioff()  # Turn off interactive mode\n",
    "plt.show()\n"
   ]
  },
  {
   "cell_type": "code",
   "execution_count": 41,
   "metadata": {},
   "outputs": [
    {
     "name": "stdout",
     "output_type": "stream",
     "text": [
      "Test Huber Loss: 208.9781\n"
     ]
    }
   ],
   "source": [
    "# Calculate the Huber loss on the test set\n",
    "def huber_loss_test(predictions, y, delta=1.0):\n",
    "    predictions = predictions.flatten()\n",
    "    y = y.flatten()\n",
    "\n",
    "    # Calculate residuals\n",
    "    residuals = np.abs(predictions - y)\n",
    "    \n",
    "    # Apply Huber loss formula\n",
    "    loss = np.where(residuals <= delta,\n",
    "                    0.5 * residuals**2,\n",
    "                    delta * residuals - 0.5 * delta**2)\n",
    "    \n",
    "    return np.mean(loss)\n",
    "\n",
    "# Make predictions on the test set\n",
    "predictions = np.array([qnn_circuit(x, weights) for x in X_test])\n",
    "\n",
    "# Inverse-transform predictions and targets back to the original scale\n",
    "predictions_original = scaler_y.inverse_transform(predictions.reshape(-1, 1))\n",
    "y_test_original = scaler_y.inverse_transform(y_test.reshape(-1, 1))\n",
    "\n",
    "# Calculate Huber loss on the original scale\n",
    "test_huber_loss = huber_loss_test(predictions_original, y_test_original)\n",
    "print(f\"Test Huber Loss: {test_huber_loss:.4f}\")\n"
   ]
  }
 ],
 "metadata": {
  "kernelspec": {
   "display_name": "Python 3",
   "language": "python",
   "name": "python3"
  },
  "language_info": {
   "codemirror_mode": {
    "name": "ipython",
    "version": 3
   },
   "file_extension": ".py",
   "mimetype": "text/x-python",
   "name": "python",
   "nbconvert_exporter": "python",
   "pygments_lexer": "ipython3",
   "version": "3.12.8"
  }
 },
 "nbformat": 4,
 "nbformat_minor": 2
}
